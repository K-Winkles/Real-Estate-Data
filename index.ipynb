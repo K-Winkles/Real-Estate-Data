{
 "cells": [
  {
   "cell_type": "markdown",
   "metadata": {},
   "source": [
    "# Real-Estate-Data\n",
    "#### by: Kiana Alessandra V. Villaera\n",
    "\n",
    "There is 1 notebook namely:\n",
    "1. [data_cleaning_and_visualization](data_cleaning_and_visualization.ipynb)\n",
    "\n",
    "Note that to run the notebook you \n",
    "will need 2 .csv files:\n",
    "3. properati-BR-2016-11-01-properties-sell.csv \n",
    "4. properati-BR-2016-11-01-properties-rent.csv\n",
    "They can be downloaded from: https://data.world/properati/real-estate-listings-brazil\n",
    "\n",
    "Finally, the shape file used:\n",
    "5. [Brazil Shape File](bra_adm2/BRA_adm2.shp)\n",
    "\n",
    "Thank you and enjoy! "
   ]
  }
 ],
 "metadata": {
  "kernelspec": {
   "display_name": "venv",
   "language": "python",
   "name": "venv"
  },
  "language_info": {
   "codemirror_mode": {
    "name": "ipython",
    "version": 3
   },
   "file_extension": ".py",
   "mimetype": "text/x-python",
   "name": "python",
   "nbconvert_exporter": "python",
   "pygments_lexer": "ipython3",
   "version": "3.6.5"
  }
 },
 "nbformat": 4,
 "nbformat_minor": 4
}
